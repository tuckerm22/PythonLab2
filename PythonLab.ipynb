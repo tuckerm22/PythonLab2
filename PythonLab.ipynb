{
 "cells": [
  {
   "cell_type": "code",
   "execution_count": null,
   "id": "db4621da",
   "metadata": {},
   "outputs": [],
   "source": [
    "def rule1(c,dA):\n",
    "    dQ=c*dA\n",
    "    return dQ"
   ]
  },
  {
   "cell_type": "code",
   "execution_count": null,
   "id": "1823a857",
   "metadata": {},
   "outputs": [],
   "source": [
    "def rule2(c,m,A):\n",
    "    dQ=c*m*A**(m-1)*dA\n",
    "    return dQ"
   ]
  },
  {
   "cell_type": "code",
   "execution_count": null,
   "id": "64050ef3",
   "metadata": {},
   "outputs": [],
   "source": [
    "def rule3(dA,dB):\n",
    "    dQ=((dA)**2 + dB**2)**(1/2)\n",
    "    return dQ"
   ]
  },
  {
   "cell_type": "code",
   "execution_count": null,
   "id": "d51bd2d8",
   "metadata": {},
   "outputs": [],
   "source": [
    "def rule4(A,B, dA, dB, Q, m, n):\n",
    "    dQ=Q(((m*dA/A)**2)+((n*dB/B)**2))**(1/2) \n",
    "    return dQ"
   ]
  },
  {
   "cell_type": "code",
   "execution_count": null,
   "id": "f3b2ba81",
   "metadata": {},
   "outputs": [],
   "source": [
    "#this is the recalculation \n",
    "def rule4(A, B, dA, dB, Q, m, n):\n",
    "    dQ=Q*(((m*dA/A)**2)+((m*dB/B)**2))**(1/2) \n",
    "    return dQ   \n",
    "A=1.552\n",
    "B=.99\n",
    "dA=0.0005\n",
    "dB=0.0005\n",
    "Q= 3.542\n",
    "m=1\n",
    "n=0.5\n",
    "dQ=rule4(A,B,dA,dB,Q,m,n)\n",
    "print('dQ=',dQ)"
   ]
  },
  {
   "cell_type": "markdown",
   "id": "9980d0d0",
   "metadata": {},
   "source": [
    "My hand calculated error does not match this error calculated. "
   ]
  },
  {
   "cell_type": "code",
   "execution_count": null,
   "id": "cb837d1f",
   "metadata": {},
   "outputs": [],
   "source": [
    "import numpy as np\n",
    "x=np.array ([1.1, 1.3, 1.4, 0.9, 0.95, 1.05 ])\n",
    "sd=np.std(x)\n",
    "mean= np.average (x)\n",
    "print('Standard deviation is', sd, 'and mean is', mean)"
   ]
  },
  {
   "cell_type": "markdown",
   "id": "7050f973",
   "metadata": {},
   "source": [
    "The standard deviation of this array is 0.17950549357115014 and the mean is 1.1166666666666667. "
   ]
  },
  {
   "cell_type": "markdown",
   "id": "4e638aae",
   "metadata": {},
   "source": [
    "$Q=\\sqrt{(\\delta A)^2+(\\delta B)^2}$"
   ]
  },
  {
   "cell_type": "markdown",
   "id": "3dc91c23",
   "metadata": {},
   "source": [
    "$\\delta v=\\sqrt{(\\frac{m*\\delta x}{x})^2+(\\frac{n*\\delta y}{y})^2}$"
   ]
  }
 ],
 "metadata": {
  "kernelspec": {
   "display_name": "Python 3 (ipykernel)",
   "language": "python",
   "name": "python3"
  },
  "language_info": {
   "codemirror_mode": {
    "name": "ipython",
    "version": 3
   },
   "file_extension": ".py",
   "mimetype": "text/x-python",
   "name": "python",
   "nbconvert_exporter": "python",
   "pygments_lexer": "ipython3",
   "version": "3.9.12"
  }
 },
 "nbformat": 4,
 "nbformat_minor": 5
}
